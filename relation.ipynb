{
  "nbformat": 4,
  "nbformat_minor": 0,
  "metadata": {
    "colab": {
      "name": "Untitled0.ipynb",
      "provenance": [],
      "collapsed_sections": [],
      "authorship_tag": "ABX9TyMs8LBGvWhKjqJmcnexJgeE",
      "include_colab_link": true
    },
    "kernelspec": {
      "name": "python3",
      "display_name": "Python 3"
    }
  },
  "cells": [
    {
      "cell_type": "markdown",
      "metadata": {
        "id": "view-in-github",
        "colab_type": "text"
      },
      "source": [
        "<a href=\"https://colab.research.google.com/github/thanhlong1997/100-nlp-papers/blob/master/relation.ipynb\" target=\"_parent\"><img src=\"https://colab.research.google.com/assets/colab-badge.svg\" alt=\"Open In Colab\"/></a>"
      ]
    },
    {
      "cell_type": "code",
      "metadata": {
        "id": "am6bJp3UafvN",
        "outputId": "57f609bd-e2d1-45d4-e40b-5d05ba82c575",
        "colab": {
          "base_uri": "https://localhost:8080/",
          "height": 34
        }
      },
      "source": [
        "from google.colab import drive\n",
        "drive.mount('/content/drive')"
      ],
      "execution_count": null,
      "outputs": [
        {
          "output_type": "stream",
          "text": [
            "Mounted at /content/drive\n"
          ],
          "name": "stdout"
        }
      ]
    },
    {
      "cell_type": "code",
      "metadata": {
        "id": "1wxSSYbab6vu",
        "outputId": "60b3b527-c1a1-473d-d9bf-54e0377b2b00",
        "colab": {
          "base_uri": "https://localhost:8080/",
          "height": 34
        }
      },
      "source": [
        "! cd drive\n",
        "! ls"
      ],
      "execution_count": 87,
      "outputs": [
        {
          "output_type": "stream",
          "text": [
            "drive  jsonfile.json  NER_APPARTMENT_final.json  sample_data\n"
          ],
          "name": "stdout"
        }
      ]
    },
    {
      "cell_type": "code",
      "metadata": {
        "id": "1vkSKNlN128K",
        "outputId": "bf637b82-849b-4f0b-fac8-749dc2d758eb",
        "colab": {
          "base_uri": "https://localhost:8080/",
          "height": 34
        }
      },
      "source": [
        "! ls"
      ],
      "execution_count": 86,
      "outputs": [
        {
          "output_type": "stream",
          "text": [
            "drive  jsonfile.json  NER_APPARTMENT_final.json  sample_data\n"
          ],
          "name": "stdout"
        }
      ]
    },
    {
      "cell_type": "code",
      "metadata": {
        "id": "xDpEs85sr_5Z",
        "outputId": "0f947c55-ba5a-45ce-81a7-14f4034c9699",
        "colab": {
          "base_uri": "https://localhost:8080/",
          "height": 272
        }
      },
      "source": [
        "data =  {\"id\": 5308, \"text\": \"\\\"- Nhà tôi cần vốn để duy trì công ty du lịch sau đợt dịch nên bán gấp căn hộ tại dự án phân cho cán bộ Bộ Quốc Phòng nằm ngay ngã tư Lê Đức Thọ và Trần Hữu Dực. Cần bán gấp cho ai thiện chí và có ra lộc khi làm thủ tục xong.- Thông tin căn hộ như sau: Diện tích thông thủy 103 m2, tầng trung thoáng mát, 3 phòng ngủ, 2 phòng vệ sinh. Là dự án thiết kế đẹp nhất trong các dự án phân suất thuộc Bộ Quốc Phòng. Phòng ngủ nào cũng tràn ánh sáng tự nhiên, phong thủy tốt. Hướng nhà Tây Tứ Mệnh.- Đầy đủ các tiện ích đảm bảo sinh hoạt cho cư dân khi về sinh sống tại đây: TTTM, Gym, Spa, chợ dân sinh, trường học liên cấp đạt chuẩn Quốc Gia..v.v.- Giá bán mong muốn: 28.5tr/m2 bao mọi thuế phí.- Cuối năm nhận nhà, Sổ hồng vĩnh viễn.- LH xem nhà: 0828.026.358 Miễn trung gian. Xin Cảm ơn\\\"\", \"meta\": {}, \"annotation_approver\": None, \"labels\": [[63, 66, \"type\"], [166, 169, \"type\"], [273, 280, \"Size\"], [282, 292, \"Number_floor\"], [304, 316, \"Number_bedroom\"], [318, 333, \"Number_dressroom\"], [478, 489, \"Direction\"], [662, 671, \"Price\"], [710, 727, \"Legal\"], [741, 754, \"contact_mobile\"], [754, 770, \"contact_type\"], [647, 650, \"type\"], [127, 160, \"Address\"], [88, 117, \"Project_name\"], [378, 407, \"Project_name\"]]}\n",
        "for item in data['labels']:\n",
        "  print(item[2],'   ',data['text'][item[0]:item[1]])"
      ],
      "execution_count": null,
      "outputs": [
        {
          "output_type": "stream",
          "text": [
            "type     bán\n",
            "type     bán\n",
            "Size      103 m2\n",
            "Number_floor     tầng trung\n",
            "Number_bedroom      3 phòng ngủ\n",
            "Number_dressroom     2 phòng vệ sinh\n",
            "Direction     Tây Tứ Mệnh\n",
            "Price     28.5tr/m2\n",
            "Legal     Sổ hồng vĩnh viễn\n",
            "contact_mobile      0828.026.358\n",
            "contact_type      Miễn trung gian\n",
            "type     bán\n",
            "Address     ngã tư Lê Đức Thọ và Trần Hữu Dực\n",
            "Project_name     phân cho cán bộ Bộ Quốc Phòng\n",
            "Project_name     phân suất thuộc Bộ Quốc Phòng\n"
          ],
          "name": "stdout"
        }
      ]
    },
    {
      "cell_type": "code",
      "metadata": {
        "id": "e9LwtSt86J3F",
        "outputId": "fe6a4543-9749-4f7e-d51f-df99218053b1",
        "colab": {
          "base_uri": "https://localhost:8080/",
          "height": 768
        }
      },
      "source": [
        "!pip3 install spacy\n",
        "!python3 -m spacy download en_core_web_sm"
      ],
      "execution_count": null,
      "outputs": [
        {
          "output_type": "stream",
          "text": [
            "Requirement already satisfied: spacy in /usr/local/lib/python3.6/dist-packages (2.2.4)\n",
            "Requirement already satisfied: wasabi<1.1.0,>=0.4.0 in /usr/local/lib/python3.6/dist-packages (from spacy) (0.8.0)\n",
            "Requirement already satisfied: setuptools in /usr/local/lib/python3.6/dist-packages (from spacy) (50.3.0)\n",
            "Requirement already satisfied: blis<0.5.0,>=0.4.0 in /usr/local/lib/python3.6/dist-packages (from spacy) (0.4.1)\n",
            "Requirement already satisfied: preshed<3.1.0,>=3.0.2 in /usr/local/lib/python3.6/dist-packages (from spacy) (3.0.2)\n",
            "Requirement already satisfied: murmurhash<1.1.0,>=0.28.0 in /usr/local/lib/python3.6/dist-packages (from spacy) (1.0.2)\n",
            "Requirement already satisfied: cymem<2.1.0,>=2.0.2 in /usr/local/lib/python3.6/dist-packages (from spacy) (2.0.3)\n",
            "Requirement already satisfied: thinc==7.4.0 in /usr/local/lib/python3.6/dist-packages (from spacy) (7.4.0)\n",
            "Requirement already satisfied: numpy>=1.15.0 in /usr/local/lib/python3.6/dist-packages (from spacy) (1.18.5)\n",
            "Requirement already satisfied: plac<1.2.0,>=0.9.6 in /usr/local/lib/python3.6/dist-packages (from spacy) (1.1.3)\n",
            "Requirement already satisfied: srsly<1.1.0,>=1.0.2 in /usr/local/lib/python3.6/dist-packages (from spacy) (1.0.2)\n",
            "Requirement already satisfied: catalogue<1.1.0,>=0.0.7 in /usr/local/lib/python3.6/dist-packages (from spacy) (1.0.0)\n",
            "Requirement already satisfied: tqdm<5.0.0,>=4.38.0 in /usr/local/lib/python3.6/dist-packages (from spacy) (4.41.1)\n",
            "Requirement already satisfied: requests<3.0.0,>=2.13.0 in /usr/local/lib/python3.6/dist-packages (from spacy) (2.23.0)\n",
            "Requirement already satisfied: importlib-metadata>=0.20; python_version < \"3.8\" in /usr/local/lib/python3.6/dist-packages (from catalogue<1.1.0,>=0.0.7->spacy) (1.7.0)\n",
            "Requirement already satisfied: certifi>=2017.4.17 in /usr/local/lib/python3.6/dist-packages (from requests<3.0.0,>=2.13.0->spacy) (2020.6.20)\n",
            "Requirement already satisfied: urllib3!=1.25.0,!=1.25.1,<1.26,>=1.21.1 in /usr/local/lib/python3.6/dist-packages (from requests<3.0.0,>=2.13.0->spacy) (1.24.3)\n",
            "Requirement already satisfied: idna<3,>=2.5 in /usr/local/lib/python3.6/dist-packages (from requests<3.0.0,>=2.13.0->spacy) (2.10)\n",
            "Requirement already satisfied: chardet<4,>=3.0.2 in /usr/local/lib/python3.6/dist-packages (from requests<3.0.0,>=2.13.0->spacy) (3.0.4)\n",
            "Requirement already satisfied: zipp>=0.5 in /usr/local/lib/python3.6/dist-packages (from importlib-metadata>=0.20; python_version < \"3.8\"->catalogue<1.1.0,>=0.0.7->spacy) (3.1.0)\n",
            "Requirement already satisfied: en_core_web_sm==2.2.5 from https://github.com/explosion/spacy-models/releases/download/en_core_web_sm-2.2.5/en_core_web_sm-2.2.5.tar.gz#egg=en_core_web_sm==2.2.5 in /usr/local/lib/python3.6/dist-packages (2.2.5)\n",
            "Requirement already satisfied: spacy>=2.2.2 in /usr/local/lib/python3.6/dist-packages (from en_core_web_sm==2.2.5) (2.2.4)\n",
            "Requirement already satisfied: murmurhash<1.1.0,>=0.28.0 in /usr/local/lib/python3.6/dist-packages (from spacy>=2.2.2->en_core_web_sm==2.2.5) (1.0.2)\n",
            "Requirement already satisfied: thinc==7.4.0 in /usr/local/lib/python3.6/dist-packages (from spacy>=2.2.2->en_core_web_sm==2.2.5) (7.4.0)\n",
            "Requirement already satisfied: srsly<1.1.0,>=1.0.2 in /usr/local/lib/python3.6/dist-packages (from spacy>=2.2.2->en_core_web_sm==2.2.5) (1.0.2)\n",
            "Requirement already satisfied: catalogue<1.1.0,>=0.0.7 in /usr/local/lib/python3.6/dist-packages (from spacy>=2.2.2->en_core_web_sm==2.2.5) (1.0.0)\n",
            "Requirement already satisfied: requests<3.0.0,>=2.13.0 in /usr/local/lib/python3.6/dist-packages (from spacy>=2.2.2->en_core_web_sm==2.2.5) (2.23.0)\n",
            "Requirement already satisfied: wasabi<1.1.0,>=0.4.0 in /usr/local/lib/python3.6/dist-packages (from spacy>=2.2.2->en_core_web_sm==2.2.5) (0.8.0)\n",
            "Requirement already satisfied: blis<0.5.0,>=0.4.0 in /usr/local/lib/python3.6/dist-packages (from spacy>=2.2.2->en_core_web_sm==2.2.5) (0.4.1)\n",
            "Requirement already satisfied: preshed<3.1.0,>=3.0.2 in /usr/local/lib/python3.6/dist-packages (from spacy>=2.2.2->en_core_web_sm==2.2.5) (3.0.2)\n",
            "Requirement already satisfied: plac<1.2.0,>=0.9.6 in /usr/local/lib/python3.6/dist-packages (from spacy>=2.2.2->en_core_web_sm==2.2.5) (1.1.3)\n",
            "Requirement already satisfied: tqdm<5.0.0,>=4.38.0 in /usr/local/lib/python3.6/dist-packages (from spacy>=2.2.2->en_core_web_sm==2.2.5) (4.41.1)\n",
            "Requirement already satisfied: cymem<2.1.0,>=2.0.2 in /usr/local/lib/python3.6/dist-packages (from spacy>=2.2.2->en_core_web_sm==2.2.5) (2.0.3)\n",
            "Requirement already satisfied: numpy>=1.15.0 in /usr/local/lib/python3.6/dist-packages (from spacy>=2.2.2->en_core_web_sm==2.2.5) (1.18.5)\n",
            "Requirement already satisfied: setuptools in /usr/local/lib/python3.6/dist-packages (from spacy>=2.2.2->en_core_web_sm==2.2.5) (50.3.0)\n",
            "Requirement already satisfied: importlib-metadata>=0.20; python_version < \"3.8\" in /usr/local/lib/python3.6/dist-packages (from catalogue<1.1.0,>=0.0.7->spacy>=2.2.2->en_core_web_sm==2.2.5) (1.7.0)\n",
            "Requirement already satisfied: idna<3,>=2.5 in /usr/local/lib/python3.6/dist-packages (from requests<3.0.0,>=2.13.0->spacy>=2.2.2->en_core_web_sm==2.2.5) (2.10)\n",
            "Requirement already satisfied: chardet<4,>=3.0.2 in /usr/local/lib/python3.6/dist-packages (from requests<3.0.0,>=2.13.0->spacy>=2.2.2->en_core_web_sm==2.2.5) (3.0.4)\n",
            "Requirement already satisfied: certifi>=2017.4.17 in /usr/local/lib/python3.6/dist-packages (from requests<3.0.0,>=2.13.0->spacy>=2.2.2->en_core_web_sm==2.2.5) (2020.6.20)\n",
            "Requirement already satisfied: urllib3!=1.25.0,!=1.25.1,<1.26,>=1.21.1 in /usr/local/lib/python3.6/dist-packages (from requests<3.0.0,>=2.13.0->spacy>=2.2.2->en_core_web_sm==2.2.5) (1.24.3)\n",
            "Requirement already satisfied: zipp>=0.5 in /usr/local/lib/python3.6/dist-packages (from importlib-metadata>=0.20; python_version < \"3.8\"->catalogue<1.1.0,>=0.0.7->spacy>=2.2.2->en_core_web_sm==2.2.5) (3.1.0)\n",
            "\u001b[38;5;2m✔ Download and installation successful\u001b[0m\n",
            "You can now load the model via spacy.load('en_core_web_sm')\n"
          ],
          "name": "stdout"
        }
      ]
    },
    {
      "cell_type": "code",
      "metadata": {
        "id": "VRBRlkXh5lZf",
        "outputId": "fc2cd741-52ae-4522-daae-03296de65208",
        "colab": {
          "base_uri": "https://localhost:8080/",
          "height": 88
        }
      },
      "source": [
        "import spacy\n",
        "nlp = spacy.load('en_core_web_sm')\n",
        "search_doc = nlp(\"Apartment 02, 09 area 171m2 design 4 bedrooms 2 bathroom West door East balcony ,  Selling price: 3.3 billion , Apartment 01, 04, 07, 10, area 87m2\")\n",
        "main_doc = nlp(\"Apartment 08 area 82m2, designed with 2 bedrooms, 2 bathrooms, South door, North balcony overlooking the villa range , \")\n",
        "\n",
        "search_doc_no_stop_words = nlp(' '.join([str(t) for t in search_doc if not t.is_stop]))\n",
        "main_doc_no_stop_words = nlp(' '.join([str(t) for t in main_doc if not t.is_stop]))\n",
        "\n",
        "print(search_doc_no_stop_words.similarity(main_doc_no_stop_words))"
      ],
      "execution_count": null,
      "outputs": [
        {
          "output_type": "stream",
          "text": [
            "0.8699385570524875\n"
          ],
          "name": "stdout"
        },
        {
          "output_type": "stream",
          "text": [
            "/usr/lib/python3.6/runpy.py:193: ModelsWarning: [W007] The model you're using has no word vectors loaded, so the result of the Doc.similarity method will be based on the tagger, parser and NER, which may not give useful similarity judgements. This may happen if you're using one of the small models, e.g. `en_core_web_sm`, which don't ship with word vectors and only use context-sensitive tensors. You can always add your own word vectors, or use one of the larger models instead if available.\n",
            "  \"__main__\", mod_spec)\n"
          ],
          "name": "stderr"
        }
      ]
    },
    {
      "cell_type": "code",
      "metadata": {
        "id": "ALLLtNjcrX1d",
        "outputId": "dfb28d65-1fc8-4790-deb7-74e10163f456",
        "colab": {
          "base_uri": "https://localhost:8080/",
          "height": 357
        }
      },
      "source": [
        "data = {\"id\": 5304, \"text\": \"\\\"Chuyên mua bán, nhận ký gửi căn hộ Tô Ký Tower.Quý khách liên hệ hotline để được hỗ trợ nhanh nhất.Hotline: 0918283***.* Căn hộ bàn giao hoàn thiện, trung tâm thương mại sầm uất.* Vị trí 2 mặt tiền đường đối diện chợ Tân Chánh Hiệp, có công viên phía dưới.* Ngân hàng Vietinbank bảo lãnh và hỗ trợ cho vay 70% giá trị căn hộ.- Tầng trệt là siêu thị Coop Mart, nhà trẻ, công viên hiện hữu đã đi vào hoạt động.- Tầng 3 có Bar - cafe phục vụ dân cư.- Gần sân bóng - hồ bơi Quân Đội.- Gần trường học.- Về trung tâm đường Quang Trung, Gò Vấp 10 phút.- Hệ thống camera an ninh, thẻ từ, 2 hầm gửi xe rộng rãi.Diện tích:- 2 PN + 2WC: 61,5 m2, 65 m2.- 3 PN + 2WC: 75 m2.Liên hệ hotline: 09.18.28.3*.**.Để được tư vấn hỗ trợ tốt nhất và xem nhà thực tế.\\\"\", \"meta\": {}, \"annotation_approver\": None, \"labels\": [[8, 11, \"type\"], [12, 15, \"type\"], [35, 47, \"Project_name\"], [108, 119, \"contact_mobile\"], [214, 232, \"Near_places\"], [328, 337, \"Number_floor\"], [340, 359, \"Near_places\"], [415, 417, \"Number_floor\"], [512, 529, \"Near_places\"], [463, 479, \"Near_places\"], [531, 537, \"Near_places\"], [580, 593, \"Project_scale\"], [614, 619, \"Number_bedroom\"], [621, 625, \"Number_dressroom\"], [627, 634, \"Size\"], [636, 641, \"Size\"], [644, 648, \"Number_bedroom\"], [651, 654, \"Number_dressroom\"], [656, 661, \"Size\"], [678, 693, \"contact_mobile\"]]}\n",
        "for item in data['labels']:\n",
        "  print(item[2],'   ',data['text'][item[0]:item[1]])"
      ],
      "execution_count": 73,
      "outputs": [
        {
          "output_type": "stream",
          "text": [
            "type     mua\n",
            "type     bán\n",
            "Project_name      Tô Ký Tower\n",
            "contact_mobile      0918283***\n",
            "Near_places     chợ Tân Chánh Hiệp\n",
            "Number_floor     Tầng trệt\n",
            "Near_places      siêu thị Coop Mart\n",
            "Number_floor      3\n",
            "Near_places     đường Quang Trung\n",
            "Near_places      hồ bơi Quân Đội\n",
            "Near_places     Gò Vấp\n",
            "Project_scale      2 hầm gửi xe\n",
            "Number_bedroom      2 PN\n",
            "Number_dressroom      2WC\n",
            "Size     61,5 m2\n",
            "Size     65 m2\n",
            "Number_bedroom     3 PN\n",
            "Number_dressroom     2WC\n",
            "Size     75 m2\n",
            "contact_mobile      09.18.28.3*.**\n"
          ],
          "name": "stdout"
        }
      ]
    },
    {
      "cell_type": "code",
      "metadata": {
        "id": "Xg0vHrNfeNRK",
        "outputId": "65cbbeb7-aba3-4ca3-aa22-9e6f3f980c54",
        "colab": {
          "base_uri": "https://localhost:8080/",
          "height": 1000
        }
      },
      "source": [
        "data =  {\"id\": 5302, \"text\": \"\\\"Chính chủ gửi bán một số căn hộ chung cư khu Ngoại Giao Đoàn, Xuân Tảo, Bắc Từ Liêm, Hà Nội.Các tòa thuộc chủ đầu tư Taseco.* Tòa N01 - T4 Phú Mỹ Complex.1. Căn số 02, 03, 08, 09, diện tích 87m2 thiết kế 2 phòng ngủ 2 vệ sinh, ban công hướng Bắc nhìn hồ điều hòa, ban công hướng Nam nhìn khu đô thị starlake tây hồ tây.Liên hệ 0979776776 or 0855 461 666.2. Căn hộ số 04, 07 diện tích 101.5m2 thiết kế 3 phòng ngủ 2 vệ sinh ban công hướng Bắc nhìn hồ điều hòa,Ban công hướng Nam khu đô thị starlake tây hồ tây.3. Căn hộ 05, 06 diện tích 109.5m2 thiết kế 3 phòng ngủ 2 vệ sinh cửa Đông ban công Tây.Bán giá 38tr/m2.Tòa N03 - T2 Taseco - tòa nhà đã có sổ hồng.1. Căn hộ 01, 04, 07, 10 diện tích 87m2 thiết kế 2 phòng ngủ 2 vệ sinh, ban công hướng Tây nhìn hồ điều hòa,Ban công hướng Đông nhìn nội khu và trường học.Bán giá: 3,3 tỷ.2. Căn hộ số 05, 06 diện tích 114m2 thiết kế 3 phòng ngủ 2 vệ sinh cửa Đông ban công Tây view hồ điều hòa.3. Căn hộ số 02, 08 diện tích 121m2 thiết kế 3 phòng ngủ 2 vệ sinh cửa Đông ban công Tây.Liên hệ 0979776776 or 0855 461 666.4. Căn hộ 02, 09 diện tích 171m2 thiết kế 4 phòng ngủ 2 vệ sinh cửa Tây ban công Đông.Tòa N02 - T1 tòa nhà đã có sổ hồng.1. Căn hộ 08 diện tích 82m2 thiết kế 2 phòng ngủ 2 vệ sinh cửa Nam ban công Bắc nhìn dãy biệt thự.2. Căn hộ diện tích 113,5m2 thiết kế 3 phòng ngủ 2 vệ sinh cửa Đông hoặc Tây.Tòa nhà hiện đã có sổ hồng.- Đầy đủ tiện ích: Bể bơi, gym & yoga, phòng xông hơi, nhà hàng, siêu thị.- Cư dân ở đây được hưởng các tiện ích có sẵn của 2 khu đô thị mới Tây Hồ Tây và Ngoại Giao Đoàn, dân trí cao.- Đặc biệt khách hàng không bao giờ lo bị tắc đường vì giao thông đi lại rất thuận tiện khi mà đi qua khu ngoại giao đoàn là các tuyến đường rất rộng và đẹp.+ Đường Võ Chí Công rộng 60m đi sân bay Nội Bài và ngược lại là vào trung tâm của Hà Nội.+ Đường Nguyễn Văn Huyên kéo dài rộng 50m kéo dài từ Cầu Giấy đi qua dự án và thông với đường Nguyễn Hoàng Tôn, Ciputra Tây Hồ, Hà Nội.+ Tuyến đường Quốc Lộ 1A Phạm Văn Đồng mới mở rộng 100m đi các tỉnh phía Tây Bắc.Liên hệ 0979776776 or 0855 461 666.\\\"\", \"meta\": {}, \"annotation_approver\": None, \"labels\": [[0, 10, \"contact_type\"], [15, 18, \"type\"], [117, 124, \"Project_Owner\"], [164, 167, \"Vi_tri_apartment\"], [169, 171, \"Vi_tri_apartment\"], [172, 175, \"Vi_tri_apartment\"], [176, 179, \"Vi_tri_apartment\"], [190, 195, \"Size\"], [204, 216, \"Number_bedroom\"], [216, 226, \"Number_dressroom\"], [243, 246, \"Direction_bancong\"], [252, 263, \"View\"], [280, 283, \"Direction_bancong\"], [288, 319, \"View\"], [327, 338, \"contact_mobile\"], [368, 370, \"Vi_tri_apartment\"], [372, 374, \"Vi_tri_apartment\"], [384, 392, \"Size\"], [402, 413, \"Number_bedroom\"], [413, 423, \"Number_dressroom\"], [439, 442, \"Direction_bancong\"], [448, 459, \"View\"], [474, 478, \"Direction_bancong\"], [520, 522, \"Vi_tri_apartment\"], [523, 526, \"Vi_tri_apartment\"], [537, 544, \"Size\"], [554, 565, \"Number_bedroom\"], [565, 575, \"Number_dressroom\"], [580, 584, \"Direction\"], [594, 597, \"Direction_bancong\"], [606, 613, \"Price\"], [627, 633, \"Project_name\"], [140, 154, \"Project_name\"], [650, 657, \"Legal\"], [667, 670, \"Vi_tri_apartment\"], [672, 674, \"Vi_tri_apartment\"], [676, 678, \"Vi_tri_apartment\"], [680, 682, \"Vi_tri_apartment\"], [692, 697, \"Size\"], [706, 718, \"Number_bedroom\"], [719, 728, \"Number_dressroom\"], [744, 748, \"Direction_bancong\"], [753, 765, \"View\"], [791, 812, \"View\"], [822, 828, \"Price\"], [842, 844, \"Vi_tri_apartment\"], [845, 848, \"Vi_tri_apartment\"], [858, 864, \"Size\"], [873, 885, \"Number_bedroom\"], [886, 896, \"Number_dressroom\"], [900, 904, \"Direction\"], [914, 917, \"Direction_bancong\"], [922, 934, \"View\"], [948, 950, \"Vi_tri_apartment\"], [951, 954, \"Vi_tri_apartment\"], [965, 970, \"Size\"], [979, 991, \"Number_bedroom\"], [992, 1001, \"Number_dressroom\"], [1006, 1010, \"Direction\"], [1019, 1023, \"Direction_bancong\"], [1032, 1042, \"contact_mobile\"], [1045, 1058, \"contact_mobile\"], [341, 354, \"contact_mobile\"], [813, 816, \"type\"], [598, 601, \"type\"], [1069, 1071, \"Vi_tri_apartment\"], [1072, 1075, \"Vi_tri_apartment\"], [1085, 1091, \"Size\"], [1100, 1112, \"Number_bedroom\"], [1112, 1123, \"Number_dressroom\"], [1127, 1130, \"Direction\"], [1139, 1144, \"Direction_bancong\"], [1171, 1179, \"Legal\"], [1189, 1192, \"Vi_tri_apartment\"], [1203, 1207, \"Size\"], [1217, 1228, \"Number_bedroom\"], [1228, 1238, \"Number_dressroom\"], [1243, 1246, \"Direction\"], [1255, 1259, \"Direction_bancong\"], [1264, 1277, \"View\"], [1297, 1305, \"Size\"], [1315, 1326, \"Number_bedroom\"], [1326, 1336, \"Number_dressroom\"], [1341, 1345, \"Direction\"], [1351, 1354, \"Direction\"], [1374, 1381, \"Legal\"], [1522, 1533, \"Location\"], [2035, 2046, \"contact_mobile\"], [2050, 2062, \"contact_mobile\"], [1725, 1742, \"Near_places\"], [1814, 1836, \"Near_places\"], [1865, 1873, \"Location\"], [1900, 1922, \"Near_places\"], [1924, 1938, \"Near_places\"], [41, 92, \"Location\"], [130, 139, \"project-block\"], [617, 626, \"project-block\"], [1149, 1157, \"project-block\"], [1955, 1985, \"Near_places\"]]}\n",
        "# print(data['labels'])\n",
        "for item in data['labels']:\n",
        "  print(item[2],'   ',data['text'][item[0]:item[1]])"
      ],
      "execution_count": null,
      "outputs": [
        {
          "output_type": "stream",
          "text": [
            "contact_type     \"Chính chủ\n",
            "type     bán\n",
            "Project_Owner      Taseco\n",
            "Vi_tri_apartment      02\n",
            "Vi_tri_apartment     03\n",
            "Vi_tri_apartment      08\n",
            "Vi_tri_apartment      09\n",
            "Size      87m2\n",
            "Number_bedroom      2 phòng ngủ\n",
            "Number_dressroom      2 vệ sinh\n",
            "Direction_bancong     Bắc\n",
            "View     hồ điều hòa\n",
            "Direction_bancong     Nam\n",
            "View      khu đô thị starlake tây hồ tây\n",
            "contact_mobile      0979776776\n",
            "Vi_tri_apartment     04\n",
            "Vi_tri_apartment     07\n",
            "Size      101.5m2\n",
            "Number_bedroom     3 phòng ngủ\n",
            "Number_dressroom      2 vệ sinh\n",
            "Direction_bancong     Bắc\n",
            "View     hồ điều hòa\n",
            "Direction_bancong      Nam\n",
            "Vi_tri_apartment     05\n",
            "Vi_tri_apartment      06\n",
            "Size     109.5m2\n",
            "Number_bedroom     3 phòng ngủ\n",
            "Number_dressroom      2 vệ sinh\n",
            "Direction     Đông\n",
            "Direction_bancong     Tây\n",
            "Price     38tr/m2\n",
            "Project_name     Taseco\n",
            "Project_name     Phú Mỹ Complex\n",
            "Legal     sổ hồng\n",
            "Vi_tri_apartment      01\n",
            "Vi_tri_apartment     04\n",
            "Vi_tri_apartment     07\n",
            "Vi_tri_apartment     10\n",
            "Size      87m2\n",
            "Number_bedroom      2 phòng ngủ\n",
            "Number_dressroom     2 vệ sinh\n",
            "Direction_bancong      Tây\n",
            "View      hồ điều hòa\n",
            "View     nội khu và trường học\n",
            "Price     3,3 tỷ\n",
            "Vi_tri_apartment     05\n",
            "Vi_tri_apartment      06\n",
            "Size      114m2\n",
            "Number_bedroom      3 phòng ngủ\n",
            "Number_dressroom     2 vệ sinh \n",
            "Direction     Đông\n",
            "Direction_bancong     Tây\n",
            "View      hồ điều hòa\n",
            "Vi_tri_apartment     02\n",
            "Vi_tri_apartment      08\n",
            "Size     121m2\n",
            "Number_bedroom      3 phòng ngủ\n",
            "Number_dressroom     2 vệ sinh\n",
            "Direction     Đông\n",
            "Direction_bancong      Tây\n",
            "contact_mobile     0979776776\n",
            "contact_mobile      0855 461 666\n",
            "contact_mobile      0855 461 666\n",
            "type     Bán\n",
            "type     Bán\n",
            "Vi_tri_apartment     02\n",
            "Vi_tri_apartment      09\n",
            "Size      171m2\n",
            "Number_bedroom      4 phòng ngủ\n",
            "Number_dressroom      2 vệ sinh \n",
            "Direction     Tây\n",
            "Direction_bancong      Đông\n",
            "Legal      sổ hồng\n",
            "Vi_tri_apartment      08\n",
            "Size     82m2\n",
            "Number_bedroom     2 phòng ngủ\n",
            "Number_dressroom      2 vệ sinh\n",
            "Direction     Nam\n",
            "Direction_bancong      Bắc\n",
            "View      dãy biệt thự\n",
            "Size      113,5m2\n",
            "Number_bedroom     3 phòng ngủ\n",
            "Number_dressroom      2 vệ sinh\n",
            "Direction     Đông\n",
            "Direction     Tây\n",
            "Legal     sổ hồng\n",
            "Location      Tây Hồ Tây\n",
            "contact_mobile      0979776776\n",
            "contact_mobile     0855 461 666\n",
            "Near_places     Đường Võ Chí Công\n",
            "Near_places     Đường Nguyễn Văn Huyên\n",
            "Location     Cầu Giấy\n",
            "Near_places     đường Nguyễn Hoàng Tôn\n",
            "Near_places     Ciputra Tây Hồ\n",
            "Location      khu Ngoại Giao Đoàn, Xuân Tảo, Bắc Từ Liêm, Hà Nội\n",
            "project-block      N01 - T4\n",
            "project-block      N03 - T2\n",
            "project-block     N02 - T1\n",
            "Near_places     đường Quốc Lộ 1A Phạm Văn Đồng\n"
          ],
          "name": "stdout"
        }
      ]
    },
    {
      "cell_type": "code",
      "metadata": {
        "id": "5KlLr9-5-gqy",
        "outputId": "4b5f1c3e-65b1-4bfa-d904-897631a8a39c",
        "colab": {
          "base_uri": "https://localhost:8080/",
          "height": 139
        }
      },
      "source": [
        "import json\n",
        "\n",
        "def check_content(entity):\n",
        "  count=0\n",
        "  for item in entity:\n",
        "    if entity[item] == '':\n",
        "      count += 1\n",
        "  if count == 0 :\n",
        "    return False , 0\n",
        "  return True , count\n",
        "\n",
        "join_entity = []\n",
        "entity = {'Vi_tri_apartment':'','Size':'','Number_bedroom':'','Number_dressroom':'','Price':''}\n",
        "house = ['Vi_tri_apartment','Size','Number_bedroom','Number_dressroom','Price']\n",
        "for item in data['labels']:\n",
        "  if item[2] in house:\n",
        "    # print(item[2])\n",
        "    if entity[item[2]] == '':\n",
        "      entity[item[2]] = data['text'][item[0]:item[1]]\n",
        "    else:\n",
        "      print(data['text'][item[0]:item[1]])\n",
        "      join_entity.append(entity)\n",
        "      entity = {'Vi_tri_apartment':'','Size':'','Number_bedroom':'','Number_dressroom':'','Price':''}\n",
        "      entity[item[2]] = data['text'][item[0]:item[1]]\n",
        "      try:\n",
        "        previos_index = data['labels'].index(item) - 1\n",
        "        print(previos_index)\n",
        "        if data['labels'][previos_index][2] == item[2]  and not check_content(entity)[0]:\n",
        "          join_entity.append(entity)\n",
        "          entity = {'Vi_tri_apartment':'','Size':'','Number_bedroom':'','Number_dressroom':'','Price':''}\n",
        "      except:\n",
        "        pass\n",
        "  else:\n",
        "    pass\n",
        "\n",
        "join_entity.append(entity)\n",
        "    # print(item[2])\n",
        "\n",
        "with open('jsonfile.json','w',encoding='utf-8')as file:\n",
        "  json.dump(join_entity,file)\n",
        "print(join_entity)\n",
        "\n",
        "def count_consistent(join_entity):\n",
        "  sure = 0\n",
        "  for item in join_entity:\n",
        "    # print check_content\n",
        "    sure += check_content(item)[1]\n",
        "  return sure/(len(join_entity)*5)\n",
        "\n",
        "print(count_consistent(join_entity))"
      ],
      "execution_count": 78,
      "outputs": [
        {
          "output_type": "stream",
          "text": [
            "65 m2\n",
            "14\n",
            "75 m2\n",
            "17\n",
            "[{'Vi_tri_apartment': '', 'Size': '61,5 m2', 'Number_bedroom': ' 2 PN', 'Number_dressroom': ' 2WC', 'Price': ''}, {'Vi_tri_apartment': '', 'Size': '65 m2', 'Number_bedroom': '3 PN', 'Number_dressroom': '2WC', 'Price': ''}, {'Vi_tri_apartment': '', 'Size': '75 m2', 'Number_bedroom': '', 'Number_dressroom': '', 'Price': ''}]\n",
            "0.5333333333333333\n"
          ],
          "name": "stdout"
        }
      ]
    }
  ]
}