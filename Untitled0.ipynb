{
  "nbformat": 4,
  "nbformat_minor": 0,
  "metadata": {
    "colab": {
      "name": "Untitled0.ipynb",
      "provenance": [],
      "collapsed_sections": [],
      "authorship_tag": "ABX9TyOrGytJDG1Nf+tUEqtua3fY",
      "include_colab_link": true
    },
    "kernelspec": {
      "name": "python3",
      "display_name": "Python 3"
    }
  },
  "cells": [
    {
      "cell_type": "markdown",
      "metadata": {
        "id": "view-in-github",
        "colab_type": "text"
      },
      "source": [
        "<a href=\"https://colab.research.google.com/github/thanhlong1997/100-nlp-papers/blob/master/Untitled0.ipynb\" target=\"_parent\"><img src=\"https://colab.research.google.com/assets/colab-badge.svg\" alt=\"Open In Colab\"/></a>"
      ]
    },
    {
      "cell_type": "code",
      "metadata": {
        "id": "am6bJp3UafvN",
        "outputId": "57f609bd-e2d1-45d4-e40b-5d05ba82c575",
        "colab": {
          "base_uri": "https://localhost:8080/",
          "height": 34
        }
      },
      "source": [
        "from google.colab import drive\n",
        "drive.mount('/content/drive')"
      ],
      "execution_count": null,
      "outputs": [
        {
          "output_type": "stream",
          "text": [
            "Mounted at /content/drive\n"
          ],
          "name": "stdout"
        }
      ]
    },
    {
      "cell_type": "code",
      "metadata": {
        "id": "1wxSSYbab6vu",
        "outputId": "60b3b527-c1a1-473d-d9bf-54e0377b2b00",
        "colab": {
          "base_uri": "https://localhost:8080/",
          "height": 34
        }
      },
      "source": [
        "! cd drive\n",
        "! ls"
      ],
      "execution_count": null,
      "outputs": [
        {
          "output_type": "stream",
          "text": [
            "drive  jsonfile.json  NER_APPARTMENT_final.json  sample_data\n"
          ],
          "name": "stdout"
        }
      ]
    },
    {
      "cell_type": "code",
      "metadata": {
        "id": "1vkSKNlN128K",
        "outputId": "bf637b82-849b-4f0b-fac8-749dc2d758eb",
        "colab": {
          "base_uri": "https://localhost:8080/",
          "height": 34
        }
      },
      "source": [
        "! ls"
      ],
      "execution_count": null,
      "outputs": [
        {
          "output_type": "stream",
          "text": [
            "drive  jsonfile.json  NER_APPARTMENT_final.json  sample_data\n"
          ],
          "name": "stdout"
        }
      ]
    },
    {
      "cell_type": "code",
      "metadata": {
        "id": "xDpEs85sr_5Z"
      },
      "source": [
        "data =  {\"id\": 5308, \"text\": \"\\\"- Nhà tôi cần vốn để duy trì công ty du lịch sau đợt dịch nên bán gấp căn hộ tại dự án phân cho cán bộ Bộ Quốc Phòng nằm ngay ngã tư Lê Đức Thọ và Trần Hữu Dực. Cần bán gấp cho ai thiện chí và có ra lộc khi làm thủ tục xong.- Thông tin căn hộ như sau: Diện tích thông thủy 103 m2, tầng trung thoáng mát, 3 phòng ngủ, 2 phòng vệ sinh. Là dự án thiết kế đẹp nhất trong các dự án phân suất thuộc Bộ Quốc Phòng. Phòng ngủ nào cũng tràn ánh sáng tự nhiên, phong thủy tốt. Hướng nhà Tây Tứ Mệnh.- Đầy đủ các tiện ích đảm bảo sinh hoạt cho cư dân khi về sinh sống tại đây: TTTM, Gym, Spa, chợ dân sinh, trường học liên cấp đạt chuẩn Quốc Gia..v.v.- Giá bán mong muốn: 28.5tr/m2 bao mọi thuế phí.- Cuối năm nhận nhà, Sổ hồng vĩnh viễn.- LH xem nhà: 0828.026.358 Miễn trung gian. Xin Cảm ơn\\\"\", \"meta\": {}, \"annotation_approver\": None, \"labels\": [[63, 66, \"type\"], [166, 169, \"type\"], [273, 280, \"Size\"], [282, 292, \"Number_floor\"], [304, 316, \"Number_bedroom\"], [318, 333, \"Number_dressroom\"], [478, 489, \"Direction\"], [662, 671, \"Price\"], [710, 727, \"Legal\"], [741, 754, \"contact_mobile\"], [754, 770, \"contact_type\"], [647, 650, \"type\"], [127, 160, \"Address\"], [88, 117, \"Project_name\"], [378, 407, \"Project_name\"]]}\n",
        "for item in data['labels']:\n",
        "  print(item[2],'   ',data['text'][item[0]:item[1]])"
      ],
      "execution_count": null,
      "outputs": []
    },
    {
      "cell_type": "code",
      "metadata": {
        "id": "e9LwtSt86J3F"
      },
      "source": [
        "!pip3 install spacy\n",
        "!python3 -m spacy download en_core_web_sm"
      ],
      "execution_count": null,
      "outputs": []
    },
    {
      "cell_type": "code",
      "metadata": {
        "id": "VRBRlkXh5lZf"
      },
      "source": [
        "import spacy\n",
        "nlp = spacy.load('en_core_web_sm')\n",
        "search_doc = nlp(\"Apartment 02, 09 area 171m2 design 4 bedrooms 2 bathroom West door East balcony ,  Selling price: 3.3 billion , Apartment 01, 04, 07, 10, area 87m2\")\n",
        "main_doc = nlp(\"Apartment 08 area 82m2, designed with 2 bedrooms, 2 bathrooms, South door, North balcony overlooking the villa range , \")\n",
        "\n",
        "search_doc_no_stop_words = nlp(' '.join([str(t) for t in search_doc if not t.is_stop]))\n",
        "main_doc_no_stop_words = nlp(' '.join([str(t) for t in main_doc if not t.is_stop]))\n",
        "\n",
        "print(search_doc_no_stop_words.similarity(main_doc_no_stop_words))"
      ],
      "execution_count": null,
      "outputs": []
    },
    {
      "cell_type": "code",
      "metadata": {
        "id": "ALLLtNjcrX1d"
      },
      "source": [
        "data = {\"id\": 5304, \"text\": \"\\\"Chuyên mua bán, nhận ký gửi căn hộ Tô Ký Tower.Quý khách liên hệ hotline để được hỗ trợ nhanh nhất.Hotline: 0918283***.* Căn hộ bàn giao hoàn thiện, trung tâm thương mại sầm uất.* Vị trí 2 mặt tiền đường đối diện chợ Tân Chánh Hiệp, có công viên phía dưới.* Ngân hàng Vietinbank bảo lãnh và hỗ trợ cho vay 70% giá trị căn hộ.- Tầng trệt là siêu thị Coop Mart, nhà trẻ, công viên hiện hữu đã đi vào hoạt động.- Tầng 3 có Bar - cafe phục vụ dân cư.- Gần sân bóng - hồ bơi Quân Đội.- Gần trường học.- Về trung tâm đường Quang Trung, Gò Vấp 10 phút.- Hệ thống camera an ninh, thẻ từ, 2 hầm gửi xe rộng rãi.Diện tích:- 2 PN + 2WC: 61,5 m2, 65 m2.- 3 PN + 2WC: 75 m2.Liên hệ hotline: 09.18.28.3*.**.Để được tư vấn hỗ trợ tốt nhất và xem nhà thực tế.\\\"\", \"meta\": {}, \"annotation_approver\": None, \"labels\": [[8, 11, \"type\"], [12, 15, \"type\"], [35, 47, \"Project_name\"], [108, 119, \"contact_mobile\"], [214, 232, \"Near_places\"], [328, 337, \"Number_floor\"], [340, 359, \"Near_places\"], [415, 417, \"Number_floor\"], [512, 529, \"Near_places\"], [463, 479, \"Near_places\"], [531, 537, \"Near_places\"], [580, 593, \"Project_scale\"], [614, 619, \"Number_bedroom\"], [621, 625, \"Number_dressroom\"], [627, 634, \"Size\"], [636, 641, \"Size\"], [644, 648, \"Number_bedroom\"], [651, 654, \"Number_dressroom\"], [656, 661, \"Size\"], [678, 693, \"contact_mobile\"]]}\n",
        "for item in data['labels']:\n",
        "  print(item[2],'   ',data['text'][item[0]:item[1]])"
      ],
      "execution_count": null,
      "outputs": []
    },
    {
      "cell_type": "code",
      "metadata": {
        "id": "Xg0vHrNfeNRK"
      },
      "source": [
        "data =  {\"id\": 5302, \"text\": \"\\\"Chính chủ gửi bán một số căn hộ chung cư khu Ngoại Giao Đoàn, Xuân Tảo, Bắc Từ Liêm, Hà Nội.Các tòa thuộc chủ đầu tư Taseco.* Tòa N01 - T4 Phú Mỹ Complex.1. Căn số 02, 03, 08, 09, diện tích 87m2 thiết kế 2 phòng ngủ 2 vệ sinh, ban công hướng Bắc nhìn hồ điều hòa, ban công hướng Nam nhìn khu đô thị starlake tây hồ tây.Liên hệ 0979776776 or 0855 461 666.2. Căn hộ số 04, 07 diện tích 101.5m2 thiết kế 3 phòng ngủ 2 vệ sinh ban công hướng Bắc nhìn hồ điều hòa,Ban công hướng Nam khu đô thị starlake tây hồ tây.3. Căn hộ 05, 06 diện tích 109.5m2 thiết kế 3 phòng ngủ 2 vệ sinh cửa Đông ban công Tây.Bán giá 38tr/m2.Tòa N03 - T2 Taseco - tòa nhà đã có sổ hồng.1. Căn hộ 01, 04, 07, 10 diện tích 87m2 thiết kế 2 phòng ngủ 2 vệ sinh, ban công hướng Tây nhìn hồ điều hòa,Ban công hướng Đông nhìn nội khu và trường học.Bán giá: 3,3 tỷ.2. Căn hộ số 05, 06 diện tích 114m2 thiết kế 3 phòng ngủ 2 vệ sinh cửa Đông ban công Tây view hồ điều hòa.3. Căn hộ số 02, 08 diện tích 121m2 thiết kế 3 phòng ngủ 2 vệ sinh cửa Đông ban công Tây.Liên hệ 0979776776 or 0855 461 666.4. Căn hộ 02, 09 diện tích 171m2 thiết kế 4 phòng ngủ 2 vệ sinh cửa Tây ban công Đông.Tòa N02 - T1 tòa nhà đã có sổ hồng.1. Căn hộ 08 diện tích 82m2 thiết kế 2 phòng ngủ 2 vệ sinh cửa Nam ban công Bắc nhìn dãy biệt thự.2. Căn hộ diện tích 113,5m2 thiết kế 3 phòng ngủ 2 vệ sinh cửa Đông hoặc Tây.Tòa nhà hiện đã có sổ hồng.- Đầy đủ tiện ích: Bể bơi, gym & yoga, phòng xông hơi, nhà hàng, siêu thị.- Cư dân ở đây được hưởng các tiện ích có sẵn của 2 khu đô thị mới Tây Hồ Tây và Ngoại Giao Đoàn, dân trí cao.- Đặc biệt khách hàng không bao giờ lo bị tắc đường vì giao thông đi lại rất thuận tiện khi mà đi qua khu ngoại giao đoàn là các tuyến đường rất rộng và đẹp.+ Đường Võ Chí Công rộng 60m đi sân bay Nội Bài và ngược lại là vào trung tâm của Hà Nội.+ Đường Nguyễn Văn Huyên kéo dài rộng 50m kéo dài từ Cầu Giấy đi qua dự án và thông với đường Nguyễn Hoàng Tôn, Ciputra Tây Hồ, Hà Nội.+ Tuyến đường Quốc Lộ 1A Phạm Văn Đồng mới mở rộng 100m đi các tỉnh phía Tây Bắc.Liên hệ 0979776776 or 0855 461 666.\\\"\", \"meta\": {}, \"annotation_approver\": None, \"labels\": [[0, 10, \"contact_type\"], [15, 18, \"type\"], [117, 124, \"Project_Owner\"], [164, 167, \"Vi_tri_apartment\"], [169, 171, \"Vi_tri_apartment\"], [172, 175, \"Vi_tri_apartment\"], [176, 179, \"Vi_tri_apartment\"], [190, 195, \"Size\"], [204, 216, \"Number_bedroom\"], [216, 226, \"Number_dressroom\"], [243, 246, \"Direction_bancong\"], [252, 263, \"View\"], [280, 283, \"Direction_bancong\"], [288, 319, \"View\"], [327, 338, \"contact_mobile\"], [368, 370, \"Vi_tri_apartment\"], [372, 374, \"Vi_tri_apartment\"], [384, 392, \"Size\"], [402, 413, \"Number_bedroom\"], [413, 423, \"Number_dressroom\"], [439, 442, \"Direction_bancong\"], [448, 459, \"View\"], [474, 478, \"Direction_bancong\"], [520, 522, \"Vi_tri_apartment\"], [523, 526, \"Vi_tri_apartment\"], [537, 544, \"Size\"], [554, 565, \"Number_bedroom\"], [565, 575, \"Number_dressroom\"], [580, 584, \"Direction\"], [594, 597, \"Direction_bancong\"], [606, 613, \"Price\"], [627, 633, \"Project_name\"], [140, 154, \"Project_name\"], [650, 657, \"Legal\"], [667, 670, \"Vi_tri_apartment\"], [672, 674, \"Vi_tri_apartment\"], [676, 678, \"Vi_tri_apartment\"], [680, 682, \"Vi_tri_apartment\"], [692, 697, \"Size\"], [706, 718, \"Number_bedroom\"], [719, 728, \"Number_dressroom\"], [744, 748, \"Direction_bancong\"], [753, 765, \"View\"], [791, 812, \"View\"], [822, 828, \"Price\"], [842, 844, \"Vi_tri_apartment\"], [845, 848, \"Vi_tri_apartment\"], [858, 864, \"Size\"], [873, 885, \"Number_bedroom\"], [886, 896, \"Number_dressroom\"], [900, 904, \"Direction\"], [914, 917, \"Direction_bancong\"], [922, 934, \"View\"], [948, 950, \"Vi_tri_apartment\"], [951, 954, \"Vi_tri_apartment\"], [965, 970, \"Size\"], [979, 991, \"Number_bedroom\"], [992, 1001, \"Number_dressroom\"], [1006, 1010, \"Direction\"], [1019, 1023, \"Direction_bancong\"], [1032, 1042, \"contact_mobile\"], [1045, 1058, \"contact_mobile\"], [341, 354, \"contact_mobile\"], [813, 816, \"type\"], [598, 601, \"type\"], [1069, 1071, \"Vi_tri_apartment\"], [1072, 1075, \"Vi_tri_apartment\"], [1085, 1091, \"Size\"], [1100, 1112, \"Number_bedroom\"], [1112, 1123, \"Number_dressroom\"], [1127, 1130, \"Direction\"], [1139, 1144, \"Direction_bancong\"], [1171, 1179, \"Legal\"], [1189, 1192, \"Vi_tri_apartment\"], [1203, 1207, \"Size\"], [1217, 1228, \"Number_bedroom\"], [1228, 1238, \"Number_dressroom\"], [1243, 1246, \"Direction\"], [1255, 1259, \"Direction_bancong\"], [1264, 1277, \"View\"], [1297, 1305, \"Size\"], [1315, 1326, \"Number_bedroom\"], [1326, 1336, \"Number_dressroom\"], [1341, 1345, \"Direction\"], [1351, 1354, \"Direction\"], [1374, 1381, \"Legal\"], [1522, 1533, \"Location\"], [2035, 2046, \"contact_mobile\"], [2050, 2062, \"contact_mobile\"], [1725, 1742, \"Near_places\"], [1814, 1836, \"Near_places\"], [1865, 1873, \"Location\"], [1900, 1922, \"Near_places\"], [1924, 1938, \"Near_places\"], [41, 92, \"Location\"], [130, 139, \"project-block\"], [617, 626, \"project-block\"], [1149, 1157, \"project-block\"], [1955, 1985, \"Near_places\"]]}\n",
        "# print(data['labels'])\n",
        "with open('formal.json','w',encoding = 'utf-8') as file:\n",
        "  json.dump(data,file)\n",
        "for item in data['labels']:\n",
        "  print(item[2],'   ',data['text'][item[0]:item[1]])"
      ],
      "execution_count": null,
      "outputs": []
    },
    {
      "cell_type": "markdown",
      "metadata": {
        "id": "LRGcUEowYtpy"
      },
      "source": [
        "# Enviroment"
      ]
    },
    {
      "cell_type": "code",
      "metadata": {
        "id": "NWFb3JE3BRhU",
        "outputId": "d5311e89-f45c-4618-cd9a-d1e48c915cda",
        "colab": {
          "base_uri": "https://localhost:8080/",
          "height": 340
        }
      },
      "source": [
        "!pip install transformers"
      ],
      "execution_count": 168,
      "outputs": [
        {
          "output_type": "stream",
          "text": [
            "Requirement already satisfied: transformers in /usr/local/lib/python3.6/dist-packages (3.3.1)\n",
            "Requirement already satisfied: tokenizers==0.8.1.rc2 in /usr/local/lib/python3.6/dist-packages (from transformers) (0.8.1rc2)\n",
            "Requirement already satisfied: tqdm>=4.27 in /usr/local/lib/python3.6/dist-packages (from transformers) (4.41.1)\n",
            "Requirement already satisfied: packaging in /usr/local/lib/python3.6/dist-packages (from transformers) (20.4)\n",
            "Requirement already satisfied: dataclasses; python_version < \"3.7\" in /usr/local/lib/python3.6/dist-packages (from transformers) (0.7)\n",
            "Requirement already satisfied: sacremoses in /usr/local/lib/python3.6/dist-packages (from transformers) (0.0.43)\n",
            "Requirement already satisfied: sentencepiece!=0.1.92 in /usr/local/lib/python3.6/dist-packages (from transformers) (0.1.91)\n",
            "Requirement already satisfied: numpy in /usr/local/lib/python3.6/dist-packages (from transformers) (1.18.5)\n",
            "Requirement already satisfied: regex!=2019.12.17 in /usr/local/lib/python3.6/dist-packages (from transformers) (2019.12.20)\n",
            "Requirement already satisfied: filelock in /usr/local/lib/python3.6/dist-packages (from transformers) (3.0.12)\n",
            "Requirement already satisfied: requests in /usr/local/lib/python3.6/dist-packages (from transformers) (2.23.0)\n",
            "Requirement already satisfied: pyparsing>=2.0.2 in /usr/local/lib/python3.6/dist-packages (from packaging->transformers) (2.4.7)\n",
            "Requirement already satisfied: six in /usr/local/lib/python3.6/dist-packages (from packaging->transformers) (1.15.0)\n",
            "Requirement already satisfied: click in /usr/local/lib/python3.6/dist-packages (from sacremoses->transformers) (7.1.2)\n",
            "Requirement already satisfied: joblib in /usr/local/lib/python3.6/dist-packages (from sacremoses->transformers) (0.16.0)\n",
            "Requirement already satisfied: urllib3!=1.25.0,!=1.25.1,<1.26,>=1.21.1 in /usr/local/lib/python3.6/dist-packages (from requests->transformers) (1.24.3)\n",
            "Requirement already satisfied: certifi>=2017.4.17 in /usr/local/lib/python3.6/dist-packages (from requests->transformers) (2020.6.20)\n",
            "Requirement already satisfied: idna<3,>=2.5 in /usr/local/lib/python3.6/dist-packages (from requests->transformers) (2.10)\n",
            "Requirement already satisfied: chardet<4,>=3.0.2 in /usr/local/lib/python3.6/dist-packages (from requests->transformers) (3.0.4)\n"
          ],
          "name": "stdout"
        }
      ]
    },
    {
      "cell_type": "code",
      "metadata": {
        "id": "A8xTbsXmCmxM",
        "outputId": "b5ca00b4-5f79-421f-b898-1070cfcbf6ee",
        "colab": {
          "base_uri": "https://localhost:8080/",
          "height": 34
        }
      },
      "source": [
        "! cd transformers"
      ],
      "execution_count": 2,
      "outputs": [
        {
          "output_type": "stream",
          "text": [
            "/bin/bash: line 0: cd: transformers: No such file or directory\n"
          ],
          "name": "stdout"
        }
      ]
    },
    {
      "cell_type": "code",
      "metadata": {
        "id": "RwftjFVICopE"
      },
      "source": [
        "! pip install torch torchvision"
      ],
      "execution_count": null,
      "outputs": []
    },
    {
      "cell_type": "code",
      "metadata": {
        "id": "bC313VRaMFdD"
      },
      "source": [
        "! pip3 install vncorenlp"
      ],
      "execution_count": null,
      "outputs": []
    },
    {
      "cell_type": "code",
      "metadata": {
        "id": "o4EId1PuMK5i"
      },
      "source": [
        "! mkdir -p vncorenlp/models/wordsegmenter\n",
        "! wget https://raw.githubusercontent.com/vncorenlp/VnCoreNLP/master/VnCoreNLP-1.1.1.jar\n",
        "! wget https://raw.githubusercontent.com/vncorenlp/VnCoreNLP/master/models/wordsegmenter/vi-vocab\n",
        "! wget https://raw.githubusercontent.com/vncorenlp/VnCoreNLP/master/models/wordsegmenter/wordsegmenter.rdr\n",
        "! mv VnCoreNLP-1.1.1.jar vncorenlp/ \n",
        "! mv vi-vocab vncorenlp/models/wordsegmenter/\n",
        "! mv wordsegmenter.rdr vncorenlp/models/wordsegmenter/"
      ],
      "execution_count": null,
      "outputs": []
    },
    {
      "cell_type": "code",
      "metadata": {
        "id": "ePCnem7yC4NU",
        "outputId": "ecada81d-49c8-4771-b60f-da8031c9f1a3",
        "colab": {
          "base_uri": "https://localhost:8080/",
          "height": 34
        }
      },
      "source": [
        "import torch\n",
        "from transformers import AutoModel, AutoTokenizer\n",
        "from vncorenlp import VnCoreNLP\n",
        "import numpy as np\n",
        "\n",
        "rdrsegmenter = VnCoreNLP(\"/content/vncorenlp/VnCoreNLP-1.1.1.jar\", annotators=\"wseg\", max_heap_size='-Xmx500m') \n",
        "\n",
        "phobert = AutoModel.from_pretrained(\"vinai/phobert-base\")\n",
        "tokenizer = AutoTokenizer.from_pretrained(\"vinai/phobert-base\")\n",
        "\n",
        "\n",
        "\n"
      ],
      "execution_count": 167,
      "outputs": [
        {
          "output_type": "stream",
          "text": [
            "Special tokens have been added in the vocabulary, make sure the associated word embedding are fine-tuned or trained.\n"
          ],
          "name": "stderr"
        }
      ]
    },
    {
      "cell_type": "code",
      "metadata": {
        "id": "lBED1OeWCrgE",
        "outputId": "1a715809-d3d8-432f-f2aa-c53d21866e0d",
        "colab": {
          "base_uri": "https://localhost:8080/",
          "height": 34
        }
      },
      "source": [
        "# input\n",
        "text = \"Ông Nguyễn Khắc Chúc  đang làm việc tại Đại học Quốc gia Hà Nội. Bà Lan, vợ ông Chúc, cũng làm việc tại đây.\"\n",
        "\n",
        "# To perform word (and sentence) segmentation\n",
        "sentences = rdrsegmenter.tokenize(text) \n",
        "print(sentences)"
      ],
      "execution_count": 208,
      "outputs": [
        {
          "output_type": "stream",
          "text": [
            "[['Ông', 'Nguyễn_Khắc_Chúc', 'đang', 'làm_việc', 'tại', 'Đại_học', 'Quốc_gia', 'Hà_Nội', '.'], ['Bà', 'Lan', ',', 'vợ', 'ông', 'Chúc', ',', 'cũng', 'làm_việc', 'tại', 'đây', '.']]\n"
          ],
          "name": "stdout"
        }
      ]
    },
    {
      "cell_type": "markdown",
      "metadata": {
        "id": "04a9RVHbYpS5"
      },
      "source": [
        "# Start\n"
      ]
    },
    {
      "cell_type": "code",
      "metadata": {
        "id": "EOCNDW4WpSWK"
      },
      "source": [
        "def get_token_line(text):\n",
        "  tokens_line = rdrsegmenter.tokenize(text)\n",
        "  line = \" \"\n",
        "  sentence = ''\n",
        "  for line in tokens_line:\n",
        "    line = ' '.join(token for token in tokens_line[0])\n",
        "    sentence += line + ' '\n",
        "    line = ' '\n",
        "  return sentence\n",
        "\n",
        "def get_token_list(text):\n",
        "  tokens_line = rdrsegmenter.tokenize(text)\n",
        "  sentence = []\n",
        "  for line in tokens_line:\n",
        "   sentence.extend(line)\n",
        "  return sentence\n",
        "\n",
        "def get_input_ids(text):\n",
        "  sentence = get_token_line(text)\n",
        "  input_id = torch.tensor([tokenizer.encode(sentence)])\n",
        "  return input_id\n",
        "\n",
        "def get_features_senten(text):\n",
        "  input_id = get_input_ids(text)\n",
        "  with torch.no_grad():\n",
        "      features = phobert(input_id)  \n",
        "  cls_token = features[0][0][0]\n",
        "  pooling = np.zeros(768)\n",
        "  for token in features[0][0]:\n",
        "    pooling = np.add(pooling,token)\n",
        "  return cls_token,pooling\n",
        "\n"
      ],
      "execution_count": 169,
      "outputs": []
    },
    {
      "cell_type": "code",
      "metadata": {
        "id": "R9wLVrb6uz0a"
      },
      "source": [
        "input1 = 'nhu cầu sử dụng nhà đất'\n",
        "input2 = 'sử dụng nhà đất'\n",
        "# cls_token1, pooling1 = get_features_senten(input1)\n",
        "# cls_token2, pooling2 = get_features_senten(input2)"
      ],
      "execution_count": 221,
      "outputs": []
    },
    {
      "cell_type": "code",
      "metadata": {
        "id": "eeQtr_OdJgtm"
      },
      "source": [
        "from scipy import spatial\n",
        "def similar_2_sen(text1 , text2, is_pooling = True):\n",
        "  cls_token1, pooling1 = get_features_senten(text1)\n",
        "  cls_token2, pooling2 = get_features_senten(text2)\n",
        "  if is_pooling:\n",
        "    vec1 = pooling1\n",
        "    vec2 = pooling2\n",
        "  else:\n",
        "    vec1 = cls_token1\n",
        "    vec2 = cls_token2\n",
        "  dataSetI = vec1.tolist()\n",
        "  dataSetII = vec2.tolist()\n",
        "  result = 1 - spatial.distance.cosine(dataSetI, dataSetII)\n",
        "  return result"
      ],
      "execution_count": 199,
      "outputs": []
    },
    {
      "cell_type": "code",
      "metadata": {
        "id": "PLwwOG3xvXfu",
        "outputId": "70ac1b04-5425-454e-a431-181b8fc93d52",
        "colab": {
          "base_uri": "https://localhost:8080/",
          "height": 34
        }
      },
      "source": [
        "print(similar_2_sen(input1,input2,is_pooling= True))\n",
        "# print(similar(pooling1,pooling2))"
      ],
      "execution_count": 222,
      "outputs": [
        {
          "output_type": "stream",
          "text": [
            "0.3551792208840805\n"
          ],
          "name": "stdout"
        }
      ]
    },
    {
      "cell_type": "code",
      "metadata": {
        "id": "ZCI95L0G9aJh",
        "outputId": "eb8ac932-08a6-424b-ebe0-a2164307665d",
        "colab": {
          "base_uri": "https://localhost:8080/",
          "height": 34
        }
      },
      "source": [
        "from scipy import spatial\n",
        "pooling_vec2 = pooling2.tolist()\n",
        "pooling_vec3 = pooling3.tolist()\n",
        "result = 1 - spatial.distance.cosine(pooling_vec2, pooling_vec3)\n",
        "print(result)"
      ],
      "execution_count": 201,
      "outputs": [
        {
          "output_type": "stream",
          "text": [
            "0.6113597813191488\n"
          ],
          "name": "stdout"
        }
      ]
    },
    {
      "cell_type": "code",
      "metadata": {
        "id": "UYmLqo15FQzo"
      },
      "source": [
        "import json\n",
        "with open('a.json', 'r', encoding= 'utf-8')as file :\n",
        "  data = json.load(file)"
      ],
      "execution_count": 202,
      "outputs": []
    },
    {
      "cell_type": "code",
      "metadata": {
        "id": "OjjSnXmBFz9C",
        "outputId": "f0d494aa-7173-409d-cf7f-1b1ef1a590d4",
        "colab": {
          "base_uri": "https://localhost:8080/",
          "height": 54
        }
      },
      "source": [
        "print(data[45])"
      ],
      "execution_count": 223,
      "outputs": [
        {
          "output_type": "stream",
          "text": [
            "{'text': '- Do không có nhu cầu sử dụng nhà đất 500m2 trong có 250m2 đất ở lâu dài còn lại đất vườn nên muốn nhượng lại cho ai có nhu cầu ... - Ranh giới rõ ràng , sổ đỏ chính chủ ... - Mô tả trung : Lô đất vuông vắn bằng phẳng tường bao xung quanh kín cổng cao tường , view thoáng mát , trên đất đã có nhà cấp 4 điện nước đầy đủ , có ao cuối đất , giáp với hồ , không khí trong lành mát mẻ , đất nằm trong khu dân trí cao an ninh đảm bảo ... - Thích hợp làm biệt thự nhà vườn nghỉ dưỡng cuối tuần , làm kho xưởng .. ... - Giao thông thuận tiện cách đường Hồ chí Minh chỉ 1,5km , cách ngã tư Xuân Mai 3 km ... - Quý khách quan tâm xin vui lòng liên hệ A Quynh SĐT : 0986442009 để được tư vấn thêm .', 'labels': [[38, 43, 'size'], [53, 58, 'size'], [154, 169, 'legal'], [293, 302, 'house_type'], [397, 428, 'vi_tri'], [575, 590, 'near_places'], [642, 649, 'contact_name'], [656, 666, 'contact_mobile']]}\n"
          ],
          "name": "stdout"
        }
      ]
    },
    {
      "cell_type": "code",
      "metadata": {
        "id": "IChwakrQGeCE"
      },
      "source": [
        "class_construction_land = ['là đất thổ cư','đất ở','trong đó thổ cư','đất ở lâu dài','thổ cư','diện tích nhà','diện tích sàn','diện tích xây dựng','diện tích sử dụng','nhà rộng','nhà xây','ont']\n",
        "other_type_land = ['diện tích vườn','diện tích ao','diện tích nông nghiệp','diện tích mái','diện tích ngõ','diện tích sản xuất']\n",
        "# total_land = ['nhà đất','lô đất','tổng dt','tổng diện tích','toàn bộ','mặt bằng',' diện tích trên sổ','diện tích đất','sử dụng nhà đất']\n",
        "total_land =[]\n",
        "\n",
        "def computing_max_ability(text,class_area):\n",
        "  text = text.lower()\n",
        "  max = 0\n",
        "  class_patent = []\n",
        "  if class_area == 1:\n",
        "    class_patent = class_construction_land\n",
        "  if class_area == 2:\n",
        "    class_patent = other_type_land\n",
        "  if class_area == 3:\n",
        "    class_patent = total_land\n",
        "  for item in class_patent:\n",
        "    similar = similar_2_sen(text,item)\n",
        "    if similar > max :\n",
        "      max = similar\n",
        "  return max\n",
        "    "
      ],
      "execution_count": 314,
      "outputs": []
    },
    {
      "cell_type": "code",
      "metadata": {
        "id": "C4RssfXIqrTz"
      },
      "source": [
        "class classifier_area:\n",
        "  def __init__(self, ner_result):\n",
        "    self.input = ner_result\n",
        "  \n",
        "  def get_position_of_area(self):\n",
        "    result = []\n",
        "    for item in self.input['labels']:\n",
        "      if item[2] == 'size':\n",
        "        result.append(item)  \n",
        "    return result\n",
        "      \n",
        "  def get_context_of_entity(self):\n",
        "    context_menu = []\n",
        "    position_area_entity = self.get_position_of_area()\n",
        "    for item in position_area_entity:\n",
        "      context_before = []\n",
        "      context_menu.append([item[0] , item[1]])\n",
        "#----------------------------------------------------------------      \n",
        "      if position_area_entity.index(item) > 0:\n",
        "        index_before = position_area_entity.index(item)\n",
        "        text_before = self.input['text'][position_area_entity[index_before - 1][1]:item[0]]\n",
        "      else:\n",
        "        text_before =  self.input['text'][:item[0]]\n",
        "      text_before = get_token_list(text_before)\n",
        "      text_before = list(text_before)\n",
        "      text_before.reverse()\n",
        "      # print((text_before))\n",
        "      end_senten_pattent = ['.',',','?','!','-','+',')','(','...']\n",
        "      if text_before[0] not in end_senten_pattent:\n",
        "        for token in text_before:\n",
        "          if token not in end_senten_pattent and len(context_before) < 4:\n",
        "            context_before.append(token)\n",
        "          else:\n",
        "            break\n",
        "      context_before.reverse()\n",
        "      if len(context_before) > 0:\n",
        "        context_menu[-1].append(' '.join(x for x in context_before))\n",
        "# -----------------------------------------------------------------------\n",
        "      context_after = []\n",
        "      if position_area_entity.index(item) < len(position_area_entity)-1:\n",
        "        index_after = position_area_entity.index(item)\n",
        "        text_after = self.input['text'][item[1]:position_area_entity[index_after+1][0]]\n",
        "      else:\n",
        "        text_after = self.input['text'][item[1]:]\n",
        "      text_after = list(get_token_list(text_after))\n",
        "      # print(text_after)\n",
        "      if text_after[0] not in end_senten_pattent:\n",
        "        for token in text_after:\n",
        "          if token not in end_senten_pattent and len(context_after) < 4:\n",
        "            context_after.append(token)\n",
        "          else:\n",
        "            break\n",
        "      if len(context_after) > 0:\n",
        "        context_menu[-1].append(' '.join(x for x in context_after))\n",
        "    return context_menu \n",
        "\n",
        "  def computing_similar(self):\n",
        "    labels = []\n",
        "    contexts = self.get_context_of_entity()\n",
        "    for context in contexts:\n",
        "      max = 0\n",
        "      classs = 0\n",
        "      context_text = context[2:]\n",
        "      print(context_text)\n",
        "      for text in context_text:\n",
        "        for i in range(1,3):\n",
        "          computed = computing_max_ability(text,i)\n",
        "          print(computed)\n",
        "          if max < computed:\n",
        "            max = computed\n",
        "            classs = i\n",
        "      labels.append(list([classs,max]))\n",
        "    return labels  "
      ],
      "execution_count": 315,
      "outputs": []
    },
    {
      "cell_type": "code",
      "metadata": {
        "id": "UCzjBtWCGOb2",
        "outputId": "e75c62ce-093c-4003-9ed3-edcca25bb66d",
        "colab": {
          "base_uri": "https://localhost:8080/",
          "height": 204
        }
      },
      "source": [
        "input = data[71]\n",
        "classifier = classifier_area(input)\n",
        "ability = classifier.computing_similar()\n",
        "position = classifier.get_position_of_area()\n",
        "print(ability)"
      ],
      "execution_count": 344,
      "outputs": [
        {
          "output_type": "stream",
          "text": [
            "['xinh_xắn này có diện_tích', 'có']\n",
            "0.47784234403275105\n",
            "0.4818670603301842\n",
            "0.4288394509007567\n",
            "0.3456895181157529\n",
            "['có', 'đất ở còn lại']\n",
            "0.4288394509007567\n",
            "0.3456895181157529\n",
            "0.63977717256137\n",
            "0.5068245568886558\n",
            "[[2, 0.4818670603301842], [1, 0.63977717256137]]\n"
          ],
          "name": "stdout"
        }
      ]
    },
    {
      "cell_type": "code",
      "metadata": {
        "id": "NGEpbarMZHyN"
      },
      "source": [
        "import re\n",
        "def get_number_floor(data):\n",
        "  text = ''\n",
        "  for item in data['labels']:\n",
        "    if item[2] == 'floor':\n",
        "      print(item)\n",
        "      text = data['text'][item[0]:item[1]]\n",
        "      break\n",
        "  if text == '':\n",
        "    return 1\n",
        "  text = re.sub('\\D','',text)\n",
        "  return float(text)\n",
        "# print(get_number_floor(data[41]))\n",
        "number_floor = get_number_floor(input)"
      ],
      "execution_count": 347,
      "outputs": []
    },
    {
      "cell_type": "code",
      "metadata": {
        "id": "fOe70DeXLnQQ",
        "outputId": "e6b314cd-29c5-4aae-e66f-2e09a8e451ec",
        "colab": {
          "base_uri": "https://localhost:8080/",
          "height": 136
        }
      },
      "source": [
        "import re\n",
        "print(position)\n",
        "area = {'use_area':0,'total_land_area':0,'contruction_area':0}\n",
        "area_content =  []\n",
        "for item in position:\n",
        "  area_content.append(input['text'][item[0]:item[1]])\n",
        "print(area_content)\n",
        "\n",
        "numberic_value =[]\n",
        "for item in area_content:\n",
        "  if re.search('\\d+\\s*(m2|ha)',item):\n",
        "    value = re.search('\\d+\\s*(m2|ha)',item).group()\n",
        "    value = re.sub('m2','',value)\n",
        "    value = re.sub('ha','',value)\n",
        "    value = re.sub('\\D','',value)\n",
        "    numberic_value.append(int(value))\n",
        "print(numberic_value)\n",
        "max_consistent_construction = 0\n",
        "construction_value = 0\n",
        "for index in range(len(numberic_value)):\n",
        "  classified = list(ability[index])\n",
        "  print(classified[1])\n",
        "  if classified[0] ==  1:\n",
        "    if max_consistent_construction < classified[1] or (max_consistent_construction == classified[1] and numberic_value[index] < construction_value):\n",
        "      max_consistent_construction = classified[1]\n",
        "      construction_value = numberic_value[index]\n",
        "  \n",
        "\n",
        "max_total_area = 0\n",
        "for index in range(len(numberic_value)):\n",
        "  classified = list(ability[index])\n",
        "  if numberic_value[index] > construction_value:\n",
        "    if classified[1] < 0.53:\n",
        "      if max_total_area < numberic_value[index] and numberic_value[index] != number_floor*construction_value:\n",
        "        max_total_area = numberic_value[index]\n",
        "    # if classified[0] == 1 and max_total_area < numberic_value[index] and numberic_value[index] != number_floor*construction_value:\n",
        "      # max_total_area = numberic_value[index]\n",
        "print(max_total_area)\n",
        "if max_total_area == 0:\n",
        "  max_total_area = construction_value\n",
        "area['use_area'] = construction_value*number_floor\n",
        "area['total_land_area'] = max_total_area\n",
        "area['contruction_area'] = construction_value\n",
        "print(area)"
      ],
      "execution_count": 355,
      "outputs": [
        {
          "output_type": "stream",
          "text": [
            "[[34, 41, 'size'], [45, 50, 'size']]\n",
            "['1668 m2', '200m2']\n",
            "[1668, 200]\n",
            "0.4818670603301842\n",
            "0.63977717256137\n",
            "1668\n",
            "{'use_area': 200, 'total_land_area': 1668, 'contruction_area': 200}\n"
          ],
          "name": "stdout"
        }
      ]
    }
  ]
}